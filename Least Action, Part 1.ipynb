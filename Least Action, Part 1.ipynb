{
 "cells": [
  {
   "cell_type": "markdown",
   "metadata": {},
   "source": [
    "# Least Action and Lagrangian Mechanics\n",
    "\n",
    "<span style=\"color: red\">Note</span>:\n",
    "This web page is a jupyter notebook. It is a document that has both computer code and text in the same web page. You should notice that you can click on text and a blue box will show up around part of the page. That is one *cell* in the notebook. If you double click you can see the raw text. To go back to the typeset display, type `<shift><enter>` in that cell.\n",
    "    \n",
    "Go ahead and try this on this cell.\n"
   ]
  },
  {
   "cell_type": "markdown",
   "metadata": {},
   "source": [
    "Some of the cells in the notebook are computer code. I use the python language. In those cells press `<shift><enter>` to run the computer code. \n",
    "    \n",
    "Go ahead and try this on the python computer code below."
   ]
  },
  {
   "cell_type": "code",
   "execution_count": null,
   "metadata": {},
   "outputs": [],
   "source": [
    "print(\"Hello, world!\")"
   ]
  },
  {
   "cell_type": "markdown",
   "metadata": {},
   "source": [
    "Good! The program should have greeted you. Run the cell below to get things started."
   ]
  },
  {
   "cell_type": "code",
   "execution_count": 1,
   "metadata": {},
   "outputs": [],
   "source": [
    "import numpy as np\n",
    "import numpy as np\n",
    "import matplotlib.pyplot as plt\n",
    "%matplotlib inline\n",
    "from ipywidgets import interact, FloatSlider\n"
   ]
  },
  {
   "cell_type": "markdown",
   "metadata": {},
   "source": [
    "# Introduction to Least Action and Lagrangian Mechanics\n",
    "\n",
    "First of all, Lagrangian mechanics was invented as just a way of formulating and solving Newton's Law. It uses the concepts of kinetic and potential energy. You can solve some systems way easier using the Lagrangian formulation than if you directly used Newton's Laws. Later physicists discovered that the heart of the Lagrangian formulation, *Least Action*, could be applied to relativistic mechanics and, as Feynman discovered, quantum mechanics.\n",
    "\n",
    "Classic Lagrangian mechanics starts by defining the *Lagrangian*, *L* as \n",
    "$$\n",
    "L = T - V,\n",
    "$$\n",
    "where $T$ is the kinetic energy of the system and $V$ is the potential energy. For an example I will use the case of the one-dimensional pendulum. One of the great advantages of the Lagrangian formulation, is that you can use any convenient coordinates to describe your system. You do not have to use Cartesian x, y, coordinates. For the pendulum, I will use the angle from the vertical, $\\theta$.\n"
   ]
  },
  {
   "cell_type": "markdown",
   "metadata": {},
   "source": [
    "![Pendulum](Simple_gravity_pendulum.svg)\n",
    "*Figure 1 - The simple pendulum. The only coordinate is $\\theta$, the angle from the vertical.*\n"
   ]
  },
  {
   "cell_type": "markdown",
   "metadata": {},
   "source": [
    "\n",
    "Let's start with finding the equilibrium position of the pendulum. For an object near the surface of the Earth, the potential energy, $V(h)$ is \n",
    "$$\n",
    "V(h) = mgh + V_0, \n",
    "$$\n",
    "where $m$ is the mass of the bob, $g$ is the gravitational field strength (about 9.8 $m/s^2$), $h$ is height of the object, and $V_0$ is an arbitrary additive constant energy. It is convenient to choose $V_0 = 0$ when the pendulum is hanging straight down, then $h$ is the height above the bottom of the swing. Now you need some trigonometry to figure out the potential energy as a function of $\\theta$. The next figure shows how to do that."
   ]
  },
  {
   "cell_type": "markdown",
   "metadata": {},
   "source": [
    "![Pendulum](Pendulum_V.svg)\n",
    "*Figure 2 - The length of the rod is $L$ and $h$ is the small vertical distance from the center of the bob to the red arc. The adjacent side of the triangle is $L cos(\\theta)$. So $L = L cos(\\theta) + h$. Then $h = L (1 - cos(\\theta))$.*\n"
   ]
  },
  {
   "cell_type": "markdown",
   "metadata": {},
   "source": [
    "From *Figure 2*, $h$ is the vertical height of the bob, so the potential energy is\n",
    "$$V(\\theta) = mgh.$$\n",
    "So\n",
    "$$V(\\theta) = mg (1 - cos(\\theta)).$$\n",
    "\n",
    "Now we can introduced a case of minimizing a function. The equilibrium position of the pendulum is when the potential energy function is at a minimum. \n",
    "\n",
    "# Finding the Minimum Numerically\n",
    "Usually there are several ways to solve a problem. One way of finding a minimum is to find the value of the function, then use \"guess and check\" until you find the smallest function value you can.\n",
    "\n",
    "**Angles** in algebra are naturally measures in *radians* than degrees. In radian measure zero is still zero, but 90 degrees is $\\pi/2$, or about 1.57, radians and 180 degrees is $\\pi$ radians. I will measure angle in radians.\n",
    "\n",
    "In the cell below I programmed the potential energy function. Run the cell by clicking on the cell and typing `<shift><Enter>`. Explore entering numbers and look at the value of the function. Don't forget to try negative numbers. To stop type any letter."
   ]
  },
  {
   "cell_type": "code",
   "execution_count": null,
   "metadata": {},
   "outputs": [],
   "source": [
    "m = 1.0 # kg\n",
    "L = 1.0 # meters\n",
    "g = 9.8 # gravity in m/s^2\n",
    "\n",
    "def V(theta):\n",
    "    return m * g * (1.0 - np.cos(theta))\n",
    "\n",
    "n = 0\n",
    "try:\n",
    "    while True:\n",
    "        if n % 3 == 0:\n",
    "            print(\"### Enter a letter to stop\")\n",
    "        theta = float(input(\"Enter an angle theta in radians: \"))\n",
    "        print(f\"Potential energy is {V(theta):.6f} J\")\n",
    "        n += 1\n",
    "except:\n",
    "    pass"
   ]
  },
  {
   "cell_type": "markdown",
   "metadata": {},
   "source": [
    "# Finding the Minimum Graphically\n",
    "Another way to find a minumum is to graph the function and find the lowest point. Below is code to plot the graph of the potential energy. Run the cell by typing `<shift><enter`. From the graph you can *see* the minimum of the potential energy. Does it agree with your numerical tries above? It should!"
   ]
  },
  {
   "cell_type": "code",
   "execution_count": null,
   "metadata": {},
   "outputs": [],
   "source": [
    "fig = plt.figure(figsize=(10,6))\n",
    "ax = fig.add_subplot(111)\n",
    "th = np.linspace(-1.1*np.pi,1.1*np.pi)\n",
    "ax.plot(th, V(th))\n",
    "ax.grid()\n",
    "ax.set_title(\"Pendulum Potential Energy versus Angle\")\n",
    "ax.set_xlim(-1.1*np.pi,1.1*np.pi)\n",
    "ax.set_xlabel(\"$\\Theta$ (radians)\")\n",
    "a = ax.set_ylabel(\"Potential Energy (Joules)\")\n"
   ]
  },
  {
   "cell_type": "markdown",
   "metadata": {},
   "source": [
    "You can see the potential energy has a minimum, then goes up to a maximum and starts down again. Actually this is just a cosine function, so it actually has an infinite number of minimum values from -$\\infty$ to +$\\infty$. That is a story for another day. For now, we will stay between $\\pm 180^o$."
   ]
  },
  {
   "cell_type": "markdown",
   "metadata": {},
   "source": [
    "# Finding the Minimum by a Tangent\n",
    "Another way to find the minimum of a function is to find the tangent line to the function point. Where the tangent is horizontal, the function is either a minimum of a maximum. Run the cell below and slide the value of $\\theta$ and watch the tangent line. "
   ]
  },
  {
   "cell_type": "code",
   "execution_count": null,
   "metadata": {
    "scrolled": true
   },
   "outputs": [],
   "source": [
    "\n",
    "def derivV(th1):\n",
    "    return m * g * L * np.sin(th1)\n",
    "\n",
    "G_th = np.linspace(-1.1*np.pi,1.1*np.pi)\n",
    "\n",
    "def plotTangent(theta=-np.pi/4):\n",
    "    fig = plt.figure(figsize=(15,5))\n",
    "    ax = fig.add_subplot(111)\n",
    "    # Draw lens 1\n",
    "    ax.plot(G_th, V(G_th))\n",
    "    \n",
    "    # Plot tangent line\n",
    "    deriv = derivV(theta)\n",
    "    V0 = V(theta)\n",
    "    ax.plot(G_th, deriv * (G_th - theta) + V0)\n",
    "    ax.text(-3,21, f\"V({theta:.4f}) = {V(theta):.5f}\")\n",
    "    \n",
    "    #\n",
    "    ax.set_xlim(-1.1*np.pi,1.1*np.pi)\n",
    "    ax.set_xlabel(\"$\\Theta$ (radians)\")\n",
    "    ax.set_ylim(-1,25)\n",
    "    ax.set_ylabel(\"Potenial Energy (Joules)\")\n",
    "    ax.grid()\n",
    "\n",
    "    plt.show()\n",
    "\n",
    "interact(plotTangent, \\\n",
    "         theta=FloatSlider(default=-1.57, min=-3.5, max=3.5, step=0.05, continuous_update=False));\n"
   ]
  },
  {
   "cell_type": "markdown",
   "metadata": {},
   "source": [
    "You can click and move the slider or click on the number and enter an exact number."
   ]
  },
  {
   "cell_type": "markdown",
   "metadata": {},
   "source": [
    "# Finding the Minimum with Calculus\n",
    "One of the basic results of calculus is an operation called a *derivative*. A derivative is a new function that is the slope, or tangent, of a function at every point. In the code above I programmed the derivative of the potential energy funtion. From calculus, the derivative of the potential energy with respect to the angle $\\theta$ is written as $\\frac{d V}{d \\theta}$. In this case it is\n",
    "$$\n",
    "\\frac{d V}{d \\theta} = m g L sin(\\theta)\n",
    "$$\n",
    "\n",
    "As you could see above, finding the minimum or maximum of the potential energy is the same as solving for when the derivative of the potential energy is zero. Note that once you find a place where the derivative is zero, you still have to figure out whether it is a minimum or maximum. (Actually there are also cases where the function is neither, but just has a flat area that is upward on one side, and downward on the other like the function $y = x^3$ at $x=0$.) \n",
    "It is almost always easier to find where the derivative is zero than where a function has \n",
    "a minimum.\n",
    "\n",
    "$$\n",
    "m g L sin(\\theta) = 0\n",
    "$$\n",
    "\n",
    "For our pendulum the derivative is zero whenever the angle $\\theta$ is -$\\pi$, 0, $\\pi$, 2$\\pi$, etc. The case where it is a minimum is the set $\\theta$ is in the set $\\{..., -2\\pi, 0, 2\\pi, 4\\pi, ...\\}$.\n",
    "\n",
    "In other words, the equilibrium position of the pendulum is hanging straight down. Duh. But at least the math agrees with reality which agrees with common sense.\n",
    "\n",
    "By the way, the derivative is not plotted as a tangent line, but just the value of the slope of the tangent line is plotted. For our pendulum, run the cell below to see a plot of the derivative of the portential energy."
   ]
  },
  {
   "cell_type": "code",
   "execution_count": null,
   "metadata": {},
   "outputs": [],
   "source": [
    "fig = plt.figure(figsize=(10,6))\n",
    "ax = fig.add_subplot(111)\n",
    "th = np.linspace(-1.1*np.pi,1.1*np.pi)\n",
    "ax.plot(th, derivV(th))\n",
    "ax.plot(th, np.zeros_like(th))\n",
    "ax.plot((0,0),(-5,5), 'r')\n",
    "ax.text(0,5.1, 'Zero')\n",
    "ax.grid()\n",
    "ax.set_title(\"Pendulum dV/d$\\Theta$ versus Angle\")\n",
    "ax.set_xlim(-1.1*np.pi,1.1*np.pi)\n",
    "ax.set_xlabel(\"$\\Theta$ (radians)\")\n",
    "a = ax.set_ylabel(\"Potential Energy Derivative (Joules)\")"
   ]
  },
  {
   "cell_type": "markdown",
   "metadata": {},
   "source": [
    "# The Next Step\n",
    "What is next is what happens when the pendulum is moving. We will eventually see the story of the motion comes down to finding the much more complicated minimum of a much more complicated function. But, we have a start to the problem."
   ]
  }
 ],
 "metadata": {
  "kernelspec": {
   "display_name": "Python 3",
   "language": "python",
   "name": "python3"
  },
  "language_info": {
   "codemirror_mode": {
    "name": "ipython",
    "version": 3
   },
   "file_extension": ".py",
   "mimetype": "text/x-python",
   "name": "python",
   "nbconvert_exporter": "python",
   "pygments_lexer": "ipython3",
   "version": "3.7.4"
  }
 },
 "nbformat": 4,
 "nbformat_minor": 2
}
